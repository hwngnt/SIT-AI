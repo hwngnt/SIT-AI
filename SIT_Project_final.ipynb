{
  "nbformat": 4,
  "nbformat_minor": 0,
  "metadata": {
    "colab": {
      "name": "SIT_Project_final.ipynb",
      "provenance": [],
      "collapsed_sections": [
        "0pIDwqSg3iDn"
      ],
      "authorship_tag": "ABX9TyOTYa9wfBeUrOB/aKOmGmWn",
      "include_colab_link": true
    },
    "kernelspec": {
      "name": "python3",
      "display_name": "Python 3"
    },
    "language_info": {
      "name": "python"
    }
  },
  "cells": [
    {
      "cell_type": "markdown",
      "metadata": {
        "id": "view-in-github",
        "colab_type": "text"
      },
      "source": [
        "<a href=\"https://colab.research.google.com/github/hnhoangdz/SIT_AI/blob/main/SIT_Project_final.ipynb\" target=\"_parent\"><img src=\"https://colab.research.google.com/assets/colab-badge.svg\" alt=\"Open In Colab\"/></a>"
      ]
    },
    {
      "cell_type": "markdown",
      "metadata": {
        "id": "G11B_rSN3Io3"
      },
      "source": [
        "# 1. Import thư viện"
      ]
    },
    {
      "cell_type": "code",
      "metadata": {
        "id": "8FHe-VvhUiv0"
      },
      "source": [
        "import pandas as pd\n",
        "import numpy as np\n",
        "from sklearn.model_selection import train_test_split\n",
        "import plotly.express as px\n",
        "import matplotlib.pyplot as plt"
      ],
      "execution_count": 1,
      "outputs": []
    },
    {
      "cell_type": "markdown",
      "metadata": {
        "id": "V5A1IVc_3Mfn"
      },
      "source": [
        "# 2. Plot data frame"
      ]
    },
    {
      "cell_type": "code",
      "metadata": {
        "colab": {
          "base_uri": "https://localhost:8080/",
          "height": 423
        },
        "id": "z19GAPk0UlEZ",
        "outputId": "d66d3504-add5-4e96-823f-669074bdb7f6"
      },
      "source": [
        "df = pd.read_csv(\"https://raw.githubusercontent.com/hnhoangdz/SIT_AI/main/heart.csv\")\n",
        "df"
      ],
      "execution_count": 2,
      "outputs": [
        {
          "output_type": "execute_result",
          "data": {
            "text/html": [
              "<div>\n",
              "<style scoped>\n",
              "    .dataframe tbody tr th:only-of-type {\n",
              "        vertical-align: middle;\n",
              "    }\n",
              "\n",
              "    .dataframe tbody tr th {\n",
              "        vertical-align: top;\n",
              "    }\n",
              "\n",
              "    .dataframe thead th {\n",
              "        text-align: right;\n",
              "    }\n",
              "</style>\n",
              "<table border=\"1\" class=\"dataframe\">\n",
              "  <thead>\n",
              "    <tr style=\"text-align: right;\">\n",
              "      <th></th>\n",
              "      <th>Age</th>\n",
              "      <th>Sex</th>\n",
              "      <th>ChestPainType</th>\n",
              "      <th>RestingBP</th>\n",
              "      <th>Cholesterol</th>\n",
              "      <th>FastingBS</th>\n",
              "      <th>RestingECG</th>\n",
              "      <th>MaxHR</th>\n",
              "      <th>ExerciseAngina</th>\n",
              "      <th>Oldpeak</th>\n",
              "      <th>ST_Slope</th>\n",
              "      <th>HeartDisease</th>\n",
              "    </tr>\n",
              "  </thead>\n",
              "  <tbody>\n",
              "    <tr>\n",
              "      <th>0</th>\n",
              "      <td>40</td>\n",
              "      <td>M</td>\n",
              "      <td>ATA</td>\n",
              "      <td>140</td>\n",
              "      <td>289</td>\n",
              "      <td>0</td>\n",
              "      <td>Normal</td>\n",
              "      <td>172</td>\n",
              "      <td>N</td>\n",
              "      <td>0.0</td>\n",
              "      <td>Up</td>\n",
              "      <td>0</td>\n",
              "    </tr>\n",
              "    <tr>\n",
              "      <th>1</th>\n",
              "      <td>49</td>\n",
              "      <td>F</td>\n",
              "      <td>NAP</td>\n",
              "      <td>160</td>\n",
              "      <td>180</td>\n",
              "      <td>0</td>\n",
              "      <td>Normal</td>\n",
              "      <td>156</td>\n",
              "      <td>N</td>\n",
              "      <td>1.0</td>\n",
              "      <td>Flat</td>\n",
              "      <td>1</td>\n",
              "    </tr>\n",
              "    <tr>\n",
              "      <th>2</th>\n",
              "      <td>37</td>\n",
              "      <td>M</td>\n",
              "      <td>ATA</td>\n",
              "      <td>130</td>\n",
              "      <td>283</td>\n",
              "      <td>0</td>\n",
              "      <td>ST</td>\n",
              "      <td>98</td>\n",
              "      <td>N</td>\n",
              "      <td>0.0</td>\n",
              "      <td>Up</td>\n",
              "      <td>0</td>\n",
              "    </tr>\n",
              "    <tr>\n",
              "      <th>3</th>\n",
              "      <td>48</td>\n",
              "      <td>F</td>\n",
              "      <td>ASY</td>\n",
              "      <td>138</td>\n",
              "      <td>214</td>\n",
              "      <td>0</td>\n",
              "      <td>Normal</td>\n",
              "      <td>108</td>\n",
              "      <td>Y</td>\n",
              "      <td>1.5</td>\n",
              "      <td>Flat</td>\n",
              "      <td>1</td>\n",
              "    </tr>\n",
              "    <tr>\n",
              "      <th>4</th>\n",
              "      <td>54</td>\n",
              "      <td>M</td>\n",
              "      <td>NAP</td>\n",
              "      <td>150</td>\n",
              "      <td>195</td>\n",
              "      <td>0</td>\n",
              "      <td>Normal</td>\n",
              "      <td>122</td>\n",
              "      <td>N</td>\n",
              "      <td>0.0</td>\n",
              "      <td>Up</td>\n",
              "      <td>0</td>\n",
              "    </tr>\n",
              "    <tr>\n",
              "      <th>...</th>\n",
              "      <td>...</td>\n",
              "      <td>...</td>\n",
              "      <td>...</td>\n",
              "      <td>...</td>\n",
              "      <td>...</td>\n",
              "      <td>...</td>\n",
              "      <td>...</td>\n",
              "      <td>...</td>\n",
              "      <td>...</td>\n",
              "      <td>...</td>\n",
              "      <td>...</td>\n",
              "      <td>...</td>\n",
              "    </tr>\n",
              "    <tr>\n",
              "      <th>913</th>\n",
              "      <td>45</td>\n",
              "      <td>M</td>\n",
              "      <td>TA</td>\n",
              "      <td>110</td>\n",
              "      <td>264</td>\n",
              "      <td>0</td>\n",
              "      <td>Normal</td>\n",
              "      <td>132</td>\n",
              "      <td>N</td>\n",
              "      <td>1.2</td>\n",
              "      <td>Flat</td>\n",
              "      <td>1</td>\n",
              "    </tr>\n",
              "    <tr>\n",
              "      <th>914</th>\n",
              "      <td>68</td>\n",
              "      <td>M</td>\n",
              "      <td>ASY</td>\n",
              "      <td>144</td>\n",
              "      <td>193</td>\n",
              "      <td>1</td>\n",
              "      <td>Normal</td>\n",
              "      <td>141</td>\n",
              "      <td>N</td>\n",
              "      <td>3.4</td>\n",
              "      <td>Flat</td>\n",
              "      <td>1</td>\n",
              "    </tr>\n",
              "    <tr>\n",
              "      <th>915</th>\n",
              "      <td>57</td>\n",
              "      <td>M</td>\n",
              "      <td>ASY</td>\n",
              "      <td>130</td>\n",
              "      <td>131</td>\n",
              "      <td>0</td>\n",
              "      <td>Normal</td>\n",
              "      <td>115</td>\n",
              "      <td>Y</td>\n",
              "      <td>1.2</td>\n",
              "      <td>Flat</td>\n",
              "      <td>1</td>\n",
              "    </tr>\n",
              "    <tr>\n",
              "      <th>916</th>\n",
              "      <td>57</td>\n",
              "      <td>F</td>\n",
              "      <td>ATA</td>\n",
              "      <td>130</td>\n",
              "      <td>236</td>\n",
              "      <td>0</td>\n",
              "      <td>LVH</td>\n",
              "      <td>174</td>\n",
              "      <td>N</td>\n",
              "      <td>0.0</td>\n",
              "      <td>Flat</td>\n",
              "      <td>1</td>\n",
              "    </tr>\n",
              "    <tr>\n",
              "      <th>917</th>\n",
              "      <td>38</td>\n",
              "      <td>M</td>\n",
              "      <td>NAP</td>\n",
              "      <td>138</td>\n",
              "      <td>175</td>\n",
              "      <td>0</td>\n",
              "      <td>Normal</td>\n",
              "      <td>173</td>\n",
              "      <td>N</td>\n",
              "      <td>0.0</td>\n",
              "      <td>Up</td>\n",
              "      <td>0</td>\n",
              "    </tr>\n",
              "  </tbody>\n",
              "</table>\n",
              "<p>918 rows × 12 columns</p>\n",
              "</div>"
            ],
            "text/plain": [
              "     Age Sex ChestPainType  ...  Oldpeak  ST_Slope  HeartDisease\n",
              "0     40   M           ATA  ...      0.0        Up             0\n",
              "1     49   F           NAP  ...      1.0      Flat             1\n",
              "2     37   M           ATA  ...      0.0        Up             0\n",
              "3     48   F           ASY  ...      1.5      Flat             1\n",
              "4     54   M           NAP  ...      0.0        Up             0\n",
              "..   ...  ..           ...  ...      ...       ...           ...\n",
              "913   45   M            TA  ...      1.2      Flat             1\n",
              "914   68   M           ASY  ...      3.4      Flat             1\n",
              "915   57   M           ASY  ...      1.2      Flat             1\n",
              "916   57   F           ATA  ...      0.0      Flat             1\n",
              "917   38   M           NAP  ...      0.0        Up             0\n",
              "\n",
              "[918 rows x 12 columns]"
            ]
          },
          "metadata": {},
          "execution_count": 2
        }
      ]
    },
    {
      "cell_type": "markdown",
      "metadata": {
        "id": "0pIDwqSg3iDn"
      },
      "source": [
        "## 2.1 Missing values"
      ]
    },
    {
      "cell_type": "code",
      "metadata": {
        "colab": {
          "base_uri": "https://localhost:8080/",
          "height": 0
        },
        "id": "Y6ABS3fLx8KQ",
        "outputId": "64af109a-ed12-4859-dd73-193d8390cd95"
      },
      "source": [
        "def missing (df):\n",
        "    missing_number = df.isnull().sum().sort_values(ascending=False)\n",
        "    missing_values = pd.concat([missing_number], axis=1, keys=['Missing_Values'])\n",
        "    return missing_values\n",
        "missing(df)"
      ],
      "execution_count": 3,
      "outputs": [
        {
          "output_type": "execute_result",
          "data": {
            "text/html": [
              "<div>\n",
              "<style scoped>\n",
              "    .dataframe tbody tr th:only-of-type {\n",
              "        vertical-align: middle;\n",
              "    }\n",
              "\n",
              "    .dataframe tbody tr th {\n",
              "        vertical-align: top;\n",
              "    }\n",
              "\n",
              "    .dataframe thead th {\n",
              "        text-align: right;\n",
              "    }\n",
              "</style>\n",
              "<table border=\"1\" class=\"dataframe\">\n",
              "  <thead>\n",
              "    <tr style=\"text-align: right;\">\n",
              "      <th></th>\n",
              "      <th>Missing_Values</th>\n",
              "    </tr>\n",
              "  </thead>\n",
              "  <tbody>\n",
              "    <tr>\n",
              "      <th>HeartDisease</th>\n",
              "      <td>0</td>\n",
              "    </tr>\n",
              "    <tr>\n",
              "      <th>ST_Slope</th>\n",
              "      <td>0</td>\n",
              "    </tr>\n",
              "    <tr>\n",
              "      <th>Oldpeak</th>\n",
              "      <td>0</td>\n",
              "    </tr>\n",
              "    <tr>\n",
              "      <th>ExerciseAngina</th>\n",
              "      <td>0</td>\n",
              "    </tr>\n",
              "    <tr>\n",
              "      <th>MaxHR</th>\n",
              "      <td>0</td>\n",
              "    </tr>\n",
              "    <tr>\n",
              "      <th>RestingECG</th>\n",
              "      <td>0</td>\n",
              "    </tr>\n",
              "    <tr>\n",
              "      <th>FastingBS</th>\n",
              "      <td>0</td>\n",
              "    </tr>\n",
              "    <tr>\n",
              "      <th>Cholesterol</th>\n",
              "      <td>0</td>\n",
              "    </tr>\n",
              "    <tr>\n",
              "      <th>RestingBP</th>\n",
              "      <td>0</td>\n",
              "    </tr>\n",
              "    <tr>\n",
              "      <th>ChestPainType</th>\n",
              "      <td>0</td>\n",
              "    </tr>\n",
              "    <tr>\n",
              "      <th>Sex</th>\n",
              "      <td>0</td>\n",
              "    </tr>\n",
              "    <tr>\n",
              "      <th>Age</th>\n",
              "      <td>0</td>\n",
              "    </tr>\n",
              "  </tbody>\n",
              "</table>\n",
              "</div>"
            ],
            "text/plain": [
              "                Missing_Values\n",
              "HeartDisease                 0\n",
              "ST_Slope                     0\n",
              "Oldpeak                      0\n",
              "ExerciseAngina               0\n",
              "MaxHR                        0\n",
              "RestingECG                   0\n",
              "FastingBS                    0\n",
              "Cholesterol                  0\n",
              "RestingBP                    0\n",
              "ChestPainType                0\n",
              "Sex                          0\n",
              "Age                          0"
            ]
          },
          "metadata": {},
          "execution_count": 3
        }
      ]
    },
    {
      "cell_type": "markdown",
      "metadata": {
        "id": "sDCVI_0smjfc"
      },
      "source": [
        "## 2.2 Stats"
      ]
    },
    {
      "cell_type": "code",
      "metadata": {
        "colab": {
          "base_uri": "https://localhost:8080/",
          "height": 300
        },
        "id": "-U4kFzHYg47p",
        "outputId": "d3ca1c9f-d593-4f94-f797-a25eb3c19a0c"
      },
      "source": [
        "df.describe()"
      ],
      "execution_count": 4,
      "outputs": [
        {
          "output_type": "execute_result",
          "data": {
            "text/html": [
              "<div>\n",
              "<style scoped>\n",
              "    .dataframe tbody tr th:only-of-type {\n",
              "        vertical-align: middle;\n",
              "    }\n",
              "\n",
              "    .dataframe tbody tr th {\n",
              "        vertical-align: top;\n",
              "    }\n",
              "\n",
              "    .dataframe thead th {\n",
              "        text-align: right;\n",
              "    }\n",
              "</style>\n",
              "<table border=\"1\" class=\"dataframe\">\n",
              "  <thead>\n",
              "    <tr style=\"text-align: right;\">\n",
              "      <th></th>\n",
              "      <th>Age</th>\n",
              "      <th>RestingBP</th>\n",
              "      <th>Cholesterol</th>\n",
              "      <th>FastingBS</th>\n",
              "      <th>MaxHR</th>\n",
              "      <th>Oldpeak</th>\n",
              "      <th>HeartDisease</th>\n",
              "    </tr>\n",
              "  </thead>\n",
              "  <tbody>\n",
              "    <tr>\n",
              "      <th>count</th>\n",
              "      <td>918.000000</td>\n",
              "      <td>918.000000</td>\n",
              "      <td>918.000000</td>\n",
              "      <td>918.000000</td>\n",
              "      <td>918.000000</td>\n",
              "      <td>918.000000</td>\n",
              "      <td>918.000000</td>\n",
              "    </tr>\n",
              "    <tr>\n",
              "      <th>mean</th>\n",
              "      <td>53.510893</td>\n",
              "      <td>132.396514</td>\n",
              "      <td>198.799564</td>\n",
              "      <td>0.233115</td>\n",
              "      <td>136.809368</td>\n",
              "      <td>0.887364</td>\n",
              "      <td>0.553377</td>\n",
              "    </tr>\n",
              "    <tr>\n",
              "      <th>std</th>\n",
              "      <td>9.432617</td>\n",
              "      <td>18.514154</td>\n",
              "      <td>109.384145</td>\n",
              "      <td>0.423046</td>\n",
              "      <td>25.460334</td>\n",
              "      <td>1.066570</td>\n",
              "      <td>0.497414</td>\n",
              "    </tr>\n",
              "    <tr>\n",
              "      <th>min</th>\n",
              "      <td>28.000000</td>\n",
              "      <td>0.000000</td>\n",
              "      <td>0.000000</td>\n",
              "      <td>0.000000</td>\n",
              "      <td>60.000000</td>\n",
              "      <td>-2.600000</td>\n",
              "      <td>0.000000</td>\n",
              "    </tr>\n",
              "    <tr>\n",
              "      <th>25%</th>\n",
              "      <td>47.000000</td>\n",
              "      <td>120.000000</td>\n",
              "      <td>173.250000</td>\n",
              "      <td>0.000000</td>\n",
              "      <td>120.000000</td>\n",
              "      <td>0.000000</td>\n",
              "      <td>0.000000</td>\n",
              "    </tr>\n",
              "    <tr>\n",
              "      <th>50%</th>\n",
              "      <td>54.000000</td>\n",
              "      <td>130.000000</td>\n",
              "      <td>223.000000</td>\n",
              "      <td>0.000000</td>\n",
              "      <td>138.000000</td>\n",
              "      <td>0.600000</td>\n",
              "      <td>1.000000</td>\n",
              "    </tr>\n",
              "    <tr>\n",
              "      <th>75%</th>\n",
              "      <td>60.000000</td>\n",
              "      <td>140.000000</td>\n",
              "      <td>267.000000</td>\n",
              "      <td>0.000000</td>\n",
              "      <td>156.000000</td>\n",
              "      <td>1.500000</td>\n",
              "      <td>1.000000</td>\n",
              "    </tr>\n",
              "    <tr>\n",
              "      <th>max</th>\n",
              "      <td>77.000000</td>\n",
              "      <td>200.000000</td>\n",
              "      <td>603.000000</td>\n",
              "      <td>1.000000</td>\n",
              "      <td>202.000000</td>\n",
              "      <td>6.200000</td>\n",
              "      <td>1.000000</td>\n",
              "    </tr>\n",
              "  </tbody>\n",
              "</table>\n",
              "</div>"
            ],
            "text/plain": [
              "              Age   RestingBP  ...     Oldpeak  HeartDisease\n",
              "count  918.000000  918.000000  ...  918.000000    918.000000\n",
              "mean    53.510893  132.396514  ...    0.887364      0.553377\n",
              "std      9.432617   18.514154  ...    1.066570      0.497414\n",
              "min     28.000000    0.000000  ...   -2.600000      0.000000\n",
              "25%     47.000000  120.000000  ...    0.000000      0.000000\n",
              "50%     54.000000  130.000000  ...    0.600000      1.000000\n",
              "75%     60.000000  140.000000  ...    1.500000      1.000000\n",
              "max     77.000000  200.000000  ...    6.200000      1.000000\n",
              "\n",
              "[8 rows x 7 columns]"
            ]
          },
          "metadata": {},
          "execution_count": 4
        }
      ]
    },
    {
      "cell_type": "markdown",
      "metadata": {
        "id": "LQrHOohomm1S"
      },
      "source": [
        "## 2.3 Relationship histogram"
      ]
    },
    {
      "cell_type": "code",
      "metadata": {
        "id": "X3Tk35C4jXQE"
      },
      "source": [
        "def _plot_relationship(x,y):\n",
        "  fig = px.histogram(df, x=x, color=y,width=600, height=400)\n",
        "  fig.show()"
      ],
      "execution_count": 5,
      "outputs": []
    },
    {
      "cell_type": "code",
      "metadata": {
        "colab": {
          "base_uri": "https://localhost:8080/",
          "height": 417
        },
        "id": "dtFuO-HEnVr5",
        "outputId": "1b4568d3-809f-43e7-b9f0-fc1f7ae30ae9"
      },
      "source": [
        "_plot_relationship(x=\"ChestPainType\",y=\"HeartDisease\")"
      ],
      "execution_count": 6,
      "outputs": [
        {
          "output_type": "display_data",
          "data": {
            "text/html": [
              "<html>\n",
              "<head><meta charset=\"utf-8\" /></head>\n",
              "<body>\n",
              "    <div>\n",
              "            <script src=\"https://cdnjs.cloudflare.com/ajax/libs/mathjax/2.7.5/MathJax.js?config=TeX-AMS-MML_SVG\"></script><script type=\"text/javascript\">if (window.MathJax) {MathJax.Hub.Config({SVG: {font: \"STIX-Web\"}});}</script>\n",
              "                <script type=\"text/javascript\">window.PlotlyConfig = {MathJaxConfig: 'local'};</script>\n",
              "        <script src=\"https://cdn.plot.ly/plotly-latest.min.js\"></script>    \n",
              "            <div id=\"1345633a-6a97-4b8b-a75b-ef0ce84f9e41\" class=\"plotly-graph-div\" style=\"height:400px; width:600px;\"></div>\n",
              "            <script type=\"text/javascript\">\n",
              "                \n",
              "                    window.PLOTLYENV=window.PLOTLYENV || {};\n",
              "                    \n",
              "                if (document.getElementById(\"1345633a-6a97-4b8b-a75b-ef0ce84f9e41\")) {\n",
              "                    Plotly.newPlot(\n",
              "                        '1345633a-6a97-4b8b-a75b-ef0ce84f9e41',\n",
              "                        [{\"alignmentgroup\": \"True\", \"bingroup\": \"x\", \"hoverlabel\": {\"namelength\": 0}, \"hovertemplate\": \"HeartDisease=0<br>ChestPainType=%{x}<br>count=%{y}\", \"legendgroup\": \"HeartDisease=0\", \"marker\": {\"color\": \"#636efa\"}, \"name\": \"HeartDisease=0\", \"offsetgroup\": \"HeartDisease=0\", \"orientation\": \"v\", \"showlegend\": true, \"type\": \"histogram\", \"x\": [\"ATA\", \"ATA\", \"NAP\", \"NAP\", \"ATA\", \"ATA\", \"ATA\", \"NAP\", \"ATA\", \"NAP\", \"ATA\", \"ATA\", \"TA\", \"ATA\", \"ATA\", \"NAP\", \"NAP\", \"ASY\", \"ATA\", \"ATA\", \"ATA\", \"NAP\", \"ATA\", \"ATA\", \"ATA\", \"ATA\", \"ASY\", \"ATA\", \"ATA\", \"NAP\", \"NAP\", \"ASY\", \"ATA\", \"NAP\", \"ATA\", \"ATA\", \"ASY\", \"ATA\", \"ASY\", \"ATA\", \"NAP\", \"ASY\", \"ATA\", \"ATA\", \"ASY\", \"ATA\", \"ASY\", \"ATA\", \"ASY\", \"NAP\", \"ASY\", \"ATA\", \"NAP\", \"ATA\", \"ATA\", \"ATA\", \"ASY\", \"ATA\", \"ASY\", \"ATA\", \"NAP\", \"ATA\", \"NAP\", \"ASY\", \"ATA\", \"ASY\", \"ATA\", \"ASY\", \"ATA\", \"ASY\", \"ATA\", \"ATA\", \"ASY\", \"ATA\", \"NAP\", \"TA\", \"NAP\", \"ASY\", \"ATA\", \"ATA\", \"ATA\", \"ASY\", \"ATA\", \"NAP\", \"NAP\", \"ASY\", \"ATA\", \"ATA\", \"ASY\", \"ASY\", \"ATA\", \"ATA\", \"ATA\", \"ATA\", \"ATA\", \"ATA\", \"ASY\", \"ATA\", \"ASY\", \"ATA\", \"ATA\", \"ATA\", \"ATA\", \"ATA\", \"ASY\", \"NAP\", \"ATA\", \"NAP\", \"ATA\", \"NAP\", \"ATA\", \"NAP\", \"ASY\", \"ATA\", \"ASY\", \"ATA\", \"ATA\", \"ASY\", \"ASY\", \"ATA\", \"ATA\", \"NAP\", \"ATA\", \"TA\", \"ASY\", \"ATA\", \"TA\", \"TA\", \"NAP\", \"NAP\", \"ATA\", \"ATA\", \"ASY\", \"ATA\", \"ATA\", \"NAP\", \"NAP\", \"TA\", \"NAP\", \"ATA\", \"ATA\", \"NAP\", \"NAP\", \"ATA\", \"NAP\", \"ATA\", \"ASY\", \"ASY\", \"NAP\", \"ATA\", \"ASY\", \"ATA\", \"ATA\", \"ATA\", \"ATA\", \"TA\", \"ASY\", \"ATA\", \"NAP\", \"ATA\", \"NAP\", \"NAP\", \"ATA\", \"ATA\", \"ATA\", \"ATA\", \"ATA\", \"NAP\", \"ASY\", \"ATA\", \"NAP\", \"ATA\", \"NAP\", \"ASY\", \"ATA\", \"NAP\", \"NAP\", \"ATA\", \"ASY\", \"NAP\", \"ASY\", \"ATA\", \"ATA\", \"ATA\", \"NAP\", \"ATA\", \"ASY\", \"ATA\", \"ATA\", \"ASY\", \"ASY\", \"NAP\", \"NAP\", \"NAP\", \"NAP\", \"ASY\", \"NAP\", \"NAP\", \"NAP\", \"ATA\", \"ASY\", \"ASY\", \"ASY\", \"NAP\", \"ASY\", \"ASY\", \"ASY\", \"ASY\", \"NAP\", \"ATA\", \"ATA\", \"ATA\", \"ASY\", \"ATA\", \"TA\", \"ASY\", \"ASY\", \"NAP\", \"ASY\", \"NAP\", \"NAP\", \"ASY\", \"ASY\", \"NAP\", \"ATA\", \"ASY\", \"ATA\", \"ASY\", \"TA\", \"NAP\", \"NAP\", \"ASY\", \"NAP\", \"ATA\", \"ASY\", \"ASY\", \"NAP\", \"NAP\", \"ATA\", \"ASY\", \"NAP\", \"ASY\", \"NAP\", \"ASY\", \"TA\", \"ASY\", \"NAP\", \"ASY\", \"ATA\", \"ASY\", \"ASY\", \"ASY\", \"NAP\", \"ASY\", \"ASY\", \"TA\", \"TA\", \"ATA\", \"ASY\", \"ASY\", \"ATA\", \"NAP\", \"ASY\", \"NAP\", \"NAP\", \"ASY\", \"NAP\", \"NAP\", \"ASY\", \"ASY\", \"NAP\", \"ATA\", \"NAP\", \"ATA\", \"NAP\", \"ATA\", \"ATA\", \"ATA\", \"NAP\", \"NAP\", \"NAP\", \"TA\", \"TA\", \"ASY\", \"NAP\", \"ASY\", \"ATA\", \"NAP\", \"ASY\", \"ASY\", \"NAP\", \"NAP\", \"ATA\", \"NAP\", \"ASY\", \"TA\", \"ATA\", \"TA\", \"ATA\", \"ATA\", \"ASY\", \"NAP\", \"ATA\", \"NAP\", \"ASY\", \"NAP\", \"ATA\", \"ATA\", \"NAP\", \"ATA\", \"ATA\", \"TA\", \"NAP\", \"NAP\", \"NAP\", \"NAP\", \"ATA\", \"ASY\", \"NAP\", \"NAP\", \"NAP\", \"ATA\", \"ASY\", \"ASY\", \"TA\", \"NAP\", \"NAP\", \"NAP\", \"NAP\", \"ASY\", \"NAP\", \"ATA\", \"ATA\", \"TA\", \"ATA\", \"ASY\", \"ASY\", \"ASY\", \"NAP\", \"ASY\", \"TA\", \"NAP\", \"TA\", \"NAP\", \"NAP\", \"ASY\", \"NAP\", \"NAP\", \"ASY\", \"ASY\", \"ASY\", \"ATA\", \"NAP\", \"ATA\", \"ASY\", \"NAP\", \"TA\", \"NAP\", \"TA\", \"NAP\", \"NAP\", \"NAP\", \"NAP\", \"NAP\", \"ATA\", \"ATA\", \"NAP\", \"NAP\", \"NAP\", \"ATA\", \"NAP\", \"ASY\", \"ATA\", \"TA\", \"TA\", \"ASY\", \"NAP\", \"ASY\", \"NAP\", \"ATA\", \"NAP\", \"ASY\", \"NAP\", \"NAP\", \"ATA\", \"NAP\", \"NAP\", \"ATA\", \"NAP\", \"ASY\", \"NAP\", \"ATA\", \"NAP\", \"ATA\", \"ATA\", \"ASY\", \"NAP\", \"NAP\", \"TA\", \"NAP\", \"NAP\", \"ASY\", \"NAP\", \"ATA\", \"ATA\", \"ATA\", \"ATA\", \"ATA\", \"ATA\", \"NAP\"], \"xaxis\": \"x\", \"yaxis\": \"y\"}, {\"alignmentgroup\": \"True\", \"bingroup\": \"x\", \"hoverlabel\": {\"namelength\": 0}, \"hovertemplate\": \"HeartDisease=1<br>ChestPainType=%{x}<br>count=%{y}\", \"legendgroup\": \"HeartDisease=1\", \"marker\": {\"color\": \"#EF553B\"}, \"name\": \"HeartDisease=1\", \"offsetgroup\": \"HeartDisease=1\", \"orientation\": \"v\", \"showlegend\": true, \"type\": \"histogram\", \"x\": [\"NAP\", \"ASY\", \"ASY\", \"ATA\", \"ASY\", \"ASY\", \"ASY\", \"ATA\", \"ATA\", \"NAP\", \"ASY\", \"ASY\", \"ASY\", \"NAP\", \"ASY\", \"ASY\", \"ASY\", \"ASY\", \"ASY\", \"NAP\", \"ASY\", \"ASY\", \"ASY\", \"ATA\", \"ASY\", \"ASY\", \"ASY\", \"ASY\", \"ASY\", \"ASY\", \"ASY\", \"ASY\", \"TA\", \"ASY\", \"ASY\", \"ASY\", \"ASY\", \"ASY\", \"ASY\", \"ASY\", \"ASY\", \"ASY\", \"ASY\", \"TA\", \"NAP\", \"ATA\", \"ASY\", \"ASY\", \"ASY\", \"NAP\", \"ASY\", \"ASY\", \"ASY\", \"ASY\", \"ASY\", \"ATA\", \"ASY\", \"ASY\", \"ASY\", \"ASY\", \"ASY\", \"ASY\", \"TA\", \"ASY\", \"ASY\", \"ASY\", \"ASY\", \"ASY\", \"ASY\", \"NAP\", \"ASY\", \"ASY\", \"ASY\", \"ATA\", \"ASY\", \"ASY\", \"NAP\", \"ASY\", \"ASY\", \"ASY\", \"ASY\", \"ASY\", \"ASY\", \"ASY\", \"TA\", \"ASY\", \"ASY\", \"ASY\", \"ATA\", \"ASY\", \"NAP\", \"ASY\", \"ASY\", \"ASY\", \"ASY\", \"ASY\", \"ASY\", \"ASY\", \"ASY\", \"NAP\", \"ASY\", \"ASY\", \"ASY\", \"NAP\", \"ASY\", \"ASY\", \"ASY\", \"TA\", \"ASY\", \"ASY\", \"ASY\", \"ASY\", \"ASY\", \"ASY\", \"ASY\", \"ASY\", \"ASY\", \"ASY\", \"ASY\", \"ASY\", \"ASY\", \"ASY\", \"ASY\", \"ASY\", \"ATA\", \"NAP\", \"ASY\", \"ASY\", \"ASY\", \"NAP\", \"ASY\", \"ASY\", \"ASY\", \"ASY\", \"ASY\", \"ASY\", \"ASY\", \"ASY\", \"NAP\", \"ASY\", \"ASY\", \"ASY\", \"TA\", \"ASY\", \"ASY\", \"ASY\", \"ASY\", \"ASY\", \"ASY\", \"ASY\", \"ASY\", \"ASY\", \"ASY\", \"ASY\", \"ASY\", \"ASY\", \"ASY\", \"ASY\", \"ASY\", \"ASY\", \"ASY\", \"TA\", \"ASY\", \"ATA\", \"NAP\", \"NAP\", \"NAP\", \"ASY\", \"NAP\", \"ASY\", \"ASY\", \"ASY\", \"ASY\", \"ASY\", \"ASY\", \"ASY\", \"ASY\", \"ASY\", \"ASY\", \"ASY\", \"NAP\", \"NAP\", \"ASY\", \"ASY\", \"ASY\", \"ASY\", \"ASY\", \"ASY\", \"ASY\", \"ASY\", \"ASY\", \"ASY\", \"ASY\", \"ASY\", \"ASY\", \"ASY\", \"ASY\", \"ASY\", \"ASY\", \"ASY\", \"ASY\", \"TA\", \"ASY\", \"ASY\", \"NAP\", \"ASY\", \"ASY\", \"ASY\", \"ASY\", \"NAP\", \"ASY\", \"ASY\", \"ASY\", \"ASY\", \"NAP\", \"ASY\", \"ASY\", \"ASY\", \"NAP\", \"ASY\", \"ASY\", \"ASY\", \"ASY\", \"ASY\", \"ASY\", \"NAP\", \"ATA\", \"ASY\", \"ASY\", \"NAP\", \"ASY\", \"ASY\", \"ASY\", \"ASY\", \"ASY\", \"NAP\", \"NAP\", \"ASY\", \"ASY\", \"ASY\", \"ASY\", \"NAP\", \"ASY\", \"ASY\", \"ASY\", \"NAP\", \"NAP\", \"ASY\", \"ASY\", \"ASY\", \"NAP\", \"ASY\", \"ASY\", \"ASY\", \"ASY\", \"ASY\", \"NAP\", \"NAP\", \"ASY\", \"ASY\", \"ASY\", \"ASY\", \"NAP\", \"ASY\", \"ASY\", \"ASY\", \"NAP\", \"ATA\", \"NAP\", \"TA\", \"ASY\", \"ASY\", \"ATA\", \"ASY\", \"ASY\", \"NAP\", \"ASY\", \"TA\", \"NAP\", \"ASY\", \"ASY\", \"ASY\", \"ASY\", \"ASY\", \"ASY\", \"ASY\", \"ASY\", \"ASY\", \"NAP\", \"ASY\", \"ASY\", \"ASY\", \"ASY\", \"TA\", \"ASY\", \"NAP\", \"ASY\", \"NAP\", \"ASY\", \"ASY\", \"ASY\", \"ASY\", \"ASY\", \"NAP\", \"ASY\", \"ASY\", \"ASY\", \"ASY\", \"ASY\", \"ASY\", \"ASY\", \"NAP\", \"ASY\", \"ASY\", \"NAP\", \"NAP\", \"ASY\", \"ASY\", \"NAP\", \"TA\", \"ASY\", \"ASY\", \"NAP\", \"TA\", \"NAP\", \"NAP\", \"NAP\", \"ASY\", \"ASY\", \"ASY\", \"ASY\", \"ASY\", \"ASY\", \"ASY\", \"ASY\", \"ASY\", \"ASY\", \"ASY\", \"ASY\", \"ASY\", \"ASY\", \"ASY\", \"ASY\", \"ASY\", \"ASY\", \"ASY\", \"ASY\", \"ASY\", \"ATA\", \"ASY\", \"ASY\", \"NAP\", \"ASY\", \"ASY\", \"ASY\", \"ASY\", \"ASY\", \"ASY\", \"ASY\", \"NAP\", \"NAP\", \"ASY\", \"ASY\", \"ASY\", \"ASY\", \"ASY\", \"ASY\", \"ASY\", \"ATA\", \"ASY\", \"ATA\", \"NAP\", \"ASY\", \"ASY\", \"ASY\", \"TA\", \"ASY\", \"ASY\", \"ASY\", \"NAP\", \"NAP\", \"ASY\", \"ASY\", \"ASY\", \"ASY\", \"TA\", \"ASY\", \"NAP\", \"NAP\", \"ASY\", \"ATA\", \"ASY\", \"ASY\", \"ASY\", \"ASY\", \"ATA\", \"ASY\", \"ASY\", \"ATA\", \"NAP\", \"ASY\", \"ASY\", \"ASY\", \"ASY\", \"ASY\", \"ASY\", \"ASY\", \"ASY\", \"ASY\", \"ASY\", \"ASY\", \"ASY\", \"ASY\", \"ASY\", \"ASY\", \"ASY\", \"ASY\", \"ASY\", \"ASY\", \"ASY\", \"ASY\", \"ASY\", \"ASY\", \"NAP\", \"ASY\", \"ASY\", \"ASY\", \"ASY\", \"ASY\", \"ASY\", \"ASY\", \"ASY\", \"ASY\", \"NAP\", \"ATA\", \"ASY\", \"ASY\", \"ASY\", \"NAP\", \"ASY\", \"ASY\", \"TA\", \"ASY\", \"ASY\", \"TA\", \"NAP\", \"ASY\", \"ASY\", \"ASY\", \"NAP\", \"ASY\", \"ASY\", \"ASY\", \"ASY\", \"NAP\", \"ASY\", \"ASY\", \"ASY\", \"ASY\", \"ASY\", \"ASY\", \"ASY\", \"NAP\", \"TA\", \"ASY\", \"ASY\", \"ASY\", \"ASY\", \"NAP\", \"ASY\", \"ASY\", \"ASY\", \"ASY\", \"ASY\", \"ASY\", \"NAP\", \"ASY\", \"ASY\", \"ASY\", \"NAP\", \"ASY\", \"ASY\", \"ASY\", \"ASY\", \"NAP\", \"ASY\", \"ATA\", \"ATA\", \"ASY\", \"ASY\", \"ASY\", \"TA\", \"ATA\", \"ASY\", \"ASY\", \"ASY\", \"ASY\", \"ASY\", \"NAP\", \"ASY\", \"ASY\", \"ASY\", \"ASY\", \"ASY\", \"TA\", \"ASY\", \"ASY\", \"ATA\"], \"xaxis\": \"x\", \"yaxis\": \"y\"}],\n",
              "                        {\"barmode\": \"relative\", \"height\": 400, \"legend\": {\"tracegroupgap\": 0}, \"margin\": {\"t\": 60}, \"template\": {\"data\": {\"bar\": [{\"error_x\": {\"color\": \"#2a3f5f\"}, \"error_y\": {\"color\": \"#2a3f5f\"}, \"marker\": {\"line\": {\"color\": \"#E5ECF6\", \"width\": 0.5}}, \"type\": \"bar\"}], \"barpolar\": [{\"marker\": {\"line\": {\"color\": \"#E5ECF6\", \"width\": 0.5}}, \"type\": \"barpolar\"}], \"carpet\": [{\"aaxis\": {\"endlinecolor\": \"#2a3f5f\", \"gridcolor\": \"white\", \"linecolor\": \"white\", \"minorgridcolor\": \"white\", \"startlinecolor\": \"#2a3f5f\"}, \"baxis\": {\"endlinecolor\": \"#2a3f5f\", \"gridcolor\": \"white\", \"linecolor\": \"white\", \"minorgridcolor\": \"white\", \"startlinecolor\": \"#2a3f5f\"}, \"type\": \"carpet\"}], \"choropleth\": [{\"colorbar\": {\"outlinewidth\": 0, \"ticks\": \"\"}, \"type\": \"choropleth\"}], \"contour\": [{\"colorbar\": {\"outlinewidth\": 0, \"ticks\": \"\"}, \"colorscale\": [[0.0, \"#0d0887\"], [0.1111111111111111, \"#46039f\"], [0.2222222222222222, \"#7201a8\"], [0.3333333333333333, \"#9c179e\"], [0.4444444444444444, \"#bd3786\"], [0.5555555555555556, \"#d8576b\"], [0.6666666666666666, \"#ed7953\"], [0.7777777777777778, \"#fb9f3a\"], [0.8888888888888888, \"#fdca26\"], [1.0, \"#f0f921\"]], \"type\": \"contour\"}], \"contourcarpet\": [{\"colorbar\": {\"outlinewidth\": 0, \"ticks\": \"\"}, \"type\": \"contourcarpet\"}], \"heatmap\": [{\"colorbar\": {\"outlinewidth\": 0, \"ticks\": \"\"}, \"colorscale\": [[0.0, \"#0d0887\"], [0.1111111111111111, \"#46039f\"], [0.2222222222222222, \"#7201a8\"], [0.3333333333333333, \"#9c179e\"], [0.4444444444444444, \"#bd3786\"], [0.5555555555555556, \"#d8576b\"], [0.6666666666666666, \"#ed7953\"], [0.7777777777777778, \"#fb9f3a\"], [0.8888888888888888, \"#fdca26\"], [1.0, \"#f0f921\"]], \"type\": \"heatmap\"}], \"heatmapgl\": [{\"colorbar\": {\"outlinewidth\": 0, \"ticks\": \"\"}, \"colorscale\": [[0.0, \"#0d0887\"], [0.1111111111111111, \"#46039f\"], [0.2222222222222222, \"#7201a8\"], [0.3333333333333333, \"#9c179e\"], [0.4444444444444444, \"#bd3786\"], [0.5555555555555556, \"#d8576b\"], [0.6666666666666666, \"#ed7953\"], [0.7777777777777778, \"#fb9f3a\"], [0.8888888888888888, \"#fdca26\"], [1.0, \"#f0f921\"]], \"type\": \"heatmapgl\"}], \"histogram\": [{\"marker\": {\"colorbar\": {\"outlinewidth\": 0, \"ticks\": \"\"}}, \"type\": \"histogram\"}], \"histogram2d\": [{\"colorbar\": {\"outlinewidth\": 0, \"ticks\": \"\"}, \"colorscale\": [[0.0, \"#0d0887\"], [0.1111111111111111, \"#46039f\"], [0.2222222222222222, \"#7201a8\"], [0.3333333333333333, \"#9c179e\"], [0.4444444444444444, \"#bd3786\"], [0.5555555555555556, \"#d8576b\"], [0.6666666666666666, \"#ed7953\"], [0.7777777777777778, \"#fb9f3a\"], [0.8888888888888888, \"#fdca26\"], [1.0, \"#f0f921\"]], \"type\": \"histogram2d\"}], \"histogram2dcontour\": [{\"colorbar\": {\"outlinewidth\": 0, \"ticks\": \"\"}, \"colorscale\": [[0.0, \"#0d0887\"], [0.1111111111111111, \"#46039f\"], [0.2222222222222222, \"#7201a8\"], [0.3333333333333333, \"#9c179e\"], [0.4444444444444444, \"#bd3786\"], [0.5555555555555556, \"#d8576b\"], [0.6666666666666666, \"#ed7953\"], [0.7777777777777778, \"#fb9f3a\"], [0.8888888888888888, \"#fdca26\"], [1.0, \"#f0f921\"]], \"type\": \"histogram2dcontour\"}], \"mesh3d\": [{\"colorbar\": {\"outlinewidth\": 0, \"ticks\": \"\"}, \"type\": \"mesh3d\"}], \"parcoords\": [{\"line\": {\"colorbar\": {\"outlinewidth\": 0, \"ticks\": \"\"}}, \"type\": \"parcoords\"}], \"pie\": [{\"automargin\": true, \"type\": \"pie\"}], \"scatter\": [{\"marker\": {\"colorbar\": {\"outlinewidth\": 0, \"ticks\": \"\"}}, \"type\": \"scatter\"}], \"scatter3d\": [{\"line\": {\"colorbar\": {\"outlinewidth\": 0, \"ticks\": \"\"}}, \"marker\": {\"colorbar\": {\"outlinewidth\": 0, \"ticks\": \"\"}}, \"type\": \"scatter3d\"}], \"scattercarpet\": [{\"marker\": {\"colorbar\": {\"outlinewidth\": 0, \"ticks\": \"\"}}, \"type\": \"scattercarpet\"}], \"scattergeo\": [{\"marker\": {\"colorbar\": {\"outlinewidth\": 0, \"ticks\": \"\"}}, \"type\": \"scattergeo\"}], \"scattergl\": [{\"marker\": {\"colorbar\": {\"outlinewidth\": 0, \"ticks\": \"\"}}, \"type\": \"scattergl\"}], \"scattermapbox\": [{\"marker\": {\"colorbar\": {\"outlinewidth\": 0, \"ticks\": \"\"}}, \"type\": \"scattermapbox\"}], \"scatterpolar\": [{\"marker\": {\"colorbar\": {\"outlinewidth\": 0, \"ticks\": \"\"}}, \"type\": \"scatterpolar\"}], \"scatterpolargl\": [{\"marker\": {\"colorbar\": {\"outlinewidth\": 0, \"ticks\": \"\"}}, \"type\": \"scatterpolargl\"}], \"scatterternary\": [{\"marker\": {\"colorbar\": {\"outlinewidth\": 0, \"ticks\": \"\"}}, \"type\": \"scatterternary\"}], \"surface\": [{\"colorbar\": {\"outlinewidth\": 0, \"ticks\": \"\"}, \"colorscale\": [[0.0, \"#0d0887\"], [0.1111111111111111, \"#46039f\"], [0.2222222222222222, \"#7201a8\"], [0.3333333333333333, \"#9c179e\"], [0.4444444444444444, \"#bd3786\"], [0.5555555555555556, \"#d8576b\"], [0.6666666666666666, \"#ed7953\"], [0.7777777777777778, \"#fb9f3a\"], [0.8888888888888888, \"#fdca26\"], [1.0, \"#f0f921\"]], \"type\": \"surface\"}], \"table\": [{\"cells\": {\"fill\": {\"color\": \"#EBF0F8\"}, \"line\": {\"color\": \"white\"}}, \"header\": {\"fill\": {\"color\": \"#C8D4E3\"}, \"line\": {\"color\": \"white\"}}, \"type\": \"table\"}]}, \"layout\": {\"annotationdefaults\": {\"arrowcolor\": \"#2a3f5f\", \"arrowhead\": 0, \"arrowwidth\": 1}, \"coloraxis\": {\"colorbar\": {\"outlinewidth\": 0, \"ticks\": \"\"}}, \"colorscale\": {\"diverging\": [[0, \"#8e0152\"], [0.1, \"#c51b7d\"], [0.2, \"#de77ae\"], [0.3, \"#f1b6da\"], [0.4, \"#fde0ef\"], [0.5, \"#f7f7f7\"], [0.6, \"#e6f5d0\"], [0.7, \"#b8e186\"], [0.8, \"#7fbc41\"], [0.9, \"#4d9221\"], [1, \"#276419\"]], \"sequential\": [[0.0, \"#0d0887\"], [0.1111111111111111, \"#46039f\"], [0.2222222222222222, \"#7201a8\"], [0.3333333333333333, \"#9c179e\"], [0.4444444444444444, \"#bd3786\"], [0.5555555555555556, \"#d8576b\"], [0.6666666666666666, \"#ed7953\"], [0.7777777777777778, \"#fb9f3a\"], [0.8888888888888888, \"#fdca26\"], [1.0, \"#f0f921\"]], \"sequentialminus\": [[0.0, \"#0d0887\"], [0.1111111111111111, \"#46039f\"], [0.2222222222222222, \"#7201a8\"], [0.3333333333333333, \"#9c179e\"], [0.4444444444444444, \"#bd3786\"], [0.5555555555555556, \"#d8576b\"], [0.6666666666666666, \"#ed7953\"], [0.7777777777777778, \"#fb9f3a\"], [0.8888888888888888, \"#fdca26\"], [1.0, \"#f0f921\"]]}, \"colorway\": [\"#636efa\", \"#EF553B\", \"#00cc96\", \"#ab63fa\", \"#FFA15A\", \"#19d3f3\", \"#FF6692\", \"#B6E880\", \"#FF97FF\", \"#FECB52\"], \"font\": {\"color\": \"#2a3f5f\"}, \"geo\": {\"bgcolor\": \"white\", \"lakecolor\": \"white\", \"landcolor\": \"#E5ECF6\", \"showlakes\": true, \"showland\": true, \"subunitcolor\": \"white\"}, \"hoverlabel\": {\"align\": \"left\"}, \"hovermode\": \"closest\", \"mapbox\": {\"style\": \"light\"}, \"paper_bgcolor\": \"white\", \"plot_bgcolor\": \"#E5ECF6\", \"polar\": {\"angularaxis\": {\"gridcolor\": \"white\", \"linecolor\": \"white\", \"ticks\": \"\"}, \"bgcolor\": \"#E5ECF6\", \"radialaxis\": {\"gridcolor\": \"white\", \"linecolor\": \"white\", \"ticks\": \"\"}}, \"scene\": {\"xaxis\": {\"backgroundcolor\": \"#E5ECF6\", \"gridcolor\": \"white\", \"gridwidth\": 2, \"linecolor\": \"white\", \"showbackground\": true, \"ticks\": \"\", \"zerolinecolor\": \"white\"}, \"yaxis\": {\"backgroundcolor\": \"#E5ECF6\", \"gridcolor\": \"white\", \"gridwidth\": 2, \"linecolor\": \"white\", \"showbackground\": true, \"ticks\": \"\", \"zerolinecolor\": \"white\"}, \"zaxis\": {\"backgroundcolor\": \"#E5ECF6\", \"gridcolor\": \"white\", \"gridwidth\": 2, \"linecolor\": \"white\", \"showbackground\": true, \"ticks\": \"\", \"zerolinecolor\": \"white\"}}, \"shapedefaults\": {\"line\": {\"color\": \"#2a3f5f\"}}, \"ternary\": {\"aaxis\": {\"gridcolor\": \"white\", \"linecolor\": \"white\", \"ticks\": \"\"}, \"baxis\": {\"gridcolor\": \"white\", \"linecolor\": \"white\", \"ticks\": \"\"}, \"bgcolor\": \"#E5ECF6\", \"caxis\": {\"gridcolor\": \"white\", \"linecolor\": \"white\", \"ticks\": \"\"}}, \"title\": {\"x\": 0.05}, \"xaxis\": {\"automargin\": true, \"gridcolor\": \"white\", \"linecolor\": \"white\", \"ticks\": \"\", \"title\": {\"standoff\": 15}, \"zerolinecolor\": \"white\", \"zerolinewidth\": 2}, \"yaxis\": {\"automargin\": true, \"gridcolor\": \"white\", \"linecolor\": \"white\", \"ticks\": \"\", \"title\": {\"standoff\": 15}, \"zerolinecolor\": \"white\", \"zerolinewidth\": 2}}}, \"width\": 600, \"xaxis\": {\"anchor\": \"y\", \"domain\": [0.0, 1.0], \"title\": {\"text\": \"ChestPainType\"}}, \"yaxis\": {\"anchor\": \"x\", \"domain\": [0.0, 1.0], \"title\": {\"text\": \"count\"}}},\n",
              "                        {\"responsive\": true}\n",
              "                    ).then(function(){\n",
              "                            \n",
              "var gd = document.getElementById('1345633a-6a97-4b8b-a75b-ef0ce84f9e41');\n",
              "var x = new MutationObserver(function (mutations, observer) {{\n",
              "        var display = window.getComputedStyle(gd).display;\n",
              "        if (!display || display === 'none') {{\n",
              "            console.log([gd, 'removed!']);\n",
              "            Plotly.purge(gd);\n",
              "            observer.disconnect();\n",
              "        }}\n",
              "}});\n",
              "\n",
              "// Listen for the removal of the full notebook cells\n",
              "var notebookContainer = gd.closest('#notebook-container');\n",
              "if (notebookContainer) {{\n",
              "    x.observe(notebookContainer, {childList: true});\n",
              "}}\n",
              "\n",
              "// Listen for the clearing of the current output cell\n",
              "var outputEl = gd.closest('.output');\n",
              "if (outputEl) {{\n",
              "    x.observe(outputEl, {childList: true});\n",
              "}}\n",
              "\n",
              "                        })\n",
              "                };\n",
              "                \n",
              "            </script>\n",
              "        </div>\n",
              "</body>\n",
              "</html>"
            ]
          },
          "metadata": {}
        }
      ]
    },
    {
      "cell_type": "code",
      "metadata": {
        "colab": {
          "base_uri": "https://localhost:8080/"
        },
        "id": "O_ExNgsEp7QE",
        "outputId": "baf15b0b-64a5-4c30-ad11-6ecab3f05afa"
      },
      "source": [
        "from collections import Counter\n",
        "target = df.values[:,-1]\n",
        "counter = Counter(target)\n",
        "for k,v in counter.items():\n",
        "\tper = v / len(target) * 100\n",
        "\tprint('Class=%s, Count=%d, Percentage=%.3f%%' % (k, v, per))"
      ],
      "execution_count": 7,
      "outputs": [
        {
          "output_type": "stream",
          "name": "stdout",
          "text": [
            "Class=0, Count=410, Percentage=44.662%\n",
            "Class=1, Count=508, Percentage=55.338%\n"
          ]
        }
      ]
    },
    {
      "cell_type": "code",
      "metadata": {
        "colab": {
          "base_uri": "https://localhost:8080/",
          "height": 283
        },
        "id": "wTgutqt0pY86",
        "outputId": "a67984f1-fe89-4e50-8e43-cbd94049f214"
      },
      "source": [
        "df['HeartDisease'].hist(bins=3)"
      ],
      "execution_count": 8,
      "outputs": [
        {
          "output_type": "execute_result",
          "data": {
            "text/plain": [
              "<matplotlib.axes._subplots.AxesSubplot at 0x7ff516bcecd0>"
            ]
          },
          "metadata": {},
          "execution_count": 8
        },
        {
          "output_type": "display_data",
          "data": {
            "image/png": "[encoded data removed]",
            "text/plain": [
              "<Figure size 432x288 with 1 Axes>"
            ]
          },
          "metadata": {
            "needs_background": "light"
          }
        }
      ]
    },
    {
      "cell_type": "code",
      "metadata": {
        "id": "_xj3Gp3wWKNQ",
        "colab": {
          "base_uri": "https://localhost:8080/",
          "height": 443
        },
        "outputId": "acf963f1-2e17-4d67-dd66-b225e77f11d7"
      },
      "source": [
        "df = pd.get_dummies(df, columns=['Sex', 'ChestPainType','RestingECG','ExerciseAngina','ST_Slope'])\n",
        "df"
      ],
      "execution_count": 9,
      "outputs": [
        {
          "output_type": "execute_result",
          "data": {
            "text/html": [
              "<div>\n",
              "<style scoped>\n",
              "    .dataframe tbody tr th:only-of-type {\n",
              "        vertical-align: middle;\n",
              "    }\n",
              "\n",
              "    .dataframe tbody tr th {\n",
              "        vertical-align: top;\n",
              "    }\n",
              "\n",
              "    .dataframe thead th {\n",
              "        text-align: right;\n",
              "    }\n",
              "</style>\n",
              "<table border=\"1\" class=\"dataframe\">\n",
              "  <thead>\n",
              "    <tr style=\"text-align: right;\">\n",
              "      <th></th>\n",
              "      <th>Age</th>\n",
              "      <th>RestingBP</th>\n",
              "      <th>Cholesterol</th>\n",
              "      <th>FastingBS</th>\n",
              "      <th>MaxHR</th>\n",
              "      <th>Oldpeak</th>\n",
              "      <th>HeartDisease</th>\n",
              "      <th>Sex_F</th>\n",
              "      <th>Sex_M</th>\n",
              "      <th>ChestPainType_ASY</th>\n",
              "      <th>ChestPainType_ATA</th>\n",
              "      <th>ChestPainType_NAP</th>\n",
              "      <th>ChestPainType_TA</th>\n",
              "      <th>RestingECG_LVH</th>\n",
              "      <th>RestingECG_Normal</th>\n",
              "      <th>RestingECG_ST</th>\n",
              "      <th>ExerciseAngina_N</th>\n",
              "      <th>ExerciseAngina_Y</th>\n",
              "      <th>ST_Slope_Down</th>\n",
              "      <th>ST_Slope_Flat</th>\n",
              "      <th>ST_Slope_Up</th>\n",
              "    </tr>\n",
              "  </thead>\n",
              "  <tbody>\n",
              "    <tr>\n",
              "      <th>0</th>\n",
              "      <td>40</td>\n",
              "      <td>140</td>\n",
              "      <td>289</td>\n",
              "      <td>0</td>\n",
              "      <td>172</td>\n",
              "      <td>0.0</td>\n",
              "      <td>0</td>\n",
              "      <td>0</td>\n",
              "      <td>1</td>\n",
              "      <td>0</td>\n",
              "      <td>1</td>\n",
              "      <td>0</td>\n",
              "      <td>0</td>\n",
              "      <td>0</td>\n",
              "      <td>1</td>\n",
              "      <td>0</td>\n",
              "      <td>1</td>\n",
              "      <td>0</td>\n",
              "      <td>0</td>\n",
              "      <td>0</td>\n",
              "      <td>1</td>\n",
              "    </tr>\n",
              "    <tr>\n",
              "      <th>1</th>\n",
              "      <td>49</td>\n",
              "      <td>160</td>\n",
              "      <td>180</td>\n",
              "      <td>0</td>\n",
              "      <td>156</td>\n",
              "      <td>1.0</td>\n",
              "      <td>1</td>\n",
              "      <td>1</td>\n",
              "      <td>0</td>\n",
              "      <td>0</td>\n",
              "      <td>0</td>\n",
              "      <td>1</td>\n",
              "      <td>0</td>\n",
              "      <td>0</td>\n",
              "      <td>1</td>\n",
              "      <td>0</td>\n",
              "      <td>1</td>\n",
              "      <td>0</td>\n",
              "      <td>0</td>\n",
              "      <td>1</td>\n",
              "      <td>0</td>\n",
              "    </tr>\n",
              "    <tr>\n",
              "      <th>2</th>\n",
              "      <td>37</td>\n",
              "      <td>130</td>\n",
              "      <td>283</td>\n",
              "      <td>0</td>\n",
              "      <td>98</td>\n",
              "      <td>0.0</td>\n",
              "      <td>0</td>\n",
              "      <td>0</td>\n",
              "      <td>1</td>\n",
              "      <td>0</td>\n",
              "      <td>1</td>\n",
              "      <td>0</td>\n",
              "      <td>0</td>\n",
              "      <td>0</td>\n",
              "      <td>0</td>\n",
              "      <td>1</td>\n",
              "      <td>1</td>\n",
              "      <td>0</td>\n",
              "      <td>0</td>\n",
              "      <td>0</td>\n",
              "      <td>1</td>\n",
              "    </tr>\n",
              "    <tr>\n",
              "      <th>3</th>\n",
              "      <td>48</td>\n",
              "      <td>138</td>\n",
              "      <td>214</td>\n",
              "      <td>0</td>\n",
              "      <td>108</td>\n",
              "      <td>1.5</td>\n",
              "      <td>1</td>\n",
              "      <td>1</td>\n",
              "      <td>0</td>\n",
              "      <td>1</td>\n",
              "      <td>0</td>\n",
              "      <td>0</td>\n",
              "      <td>0</td>\n",
              "      <td>0</td>\n",
              "      <td>1</td>\n",
              "      <td>0</td>\n",
              "      <td>0</td>\n",
              "      <td>1</td>\n",
              "      <td>0</td>\n",
              "      <td>1</td>\n",
              "      <td>0</td>\n",
              "    </tr>\n",
              "    <tr>\n",
              "      <th>4</th>\n",
              "      <td>54</td>\n",
              "      <td>150</td>\n",
              "      <td>195</td>\n",
              "      <td>0</td>\n",
              "      <td>122</td>\n",
              "      <td>0.0</td>\n",
              "      <td>0</td>\n",
              "      <td>0</td>\n",
              "      <td>1</td>\n",
              "      <td>0</td>\n",
              "      <td>0</td>\n",
              "      <td>1</td>\n",
              "      <td>0</td>\n",
              "      <td>0</td>\n",
              "      <td>1</td>\n",
              "      <td>0</td>\n",
              "      <td>1</td>\n",
              "      <td>0</td>\n",
              "      <td>0</td>\n",
              "      <td>0</td>\n",
              "      <td>1</td>\n",
              "    </tr>\n",
              "    <tr>\n",
              "      <th>...</th>\n",
              "      <td>...</td>\n",
              "      <td>...</td>\n",
              "      <td>...</td>\n",
              "      <td>...</td>\n",
              "      <td>...</td>\n",
              "      <td>...</td>\n",
              "      <td>...</td>\n",
              "      <td>...</td>\n",
              "      <td>...</td>\n",
              "      <td>...</td>\n",
              "      <td>...</td>\n",
              "      <td>...</td>\n",
              "      <td>...</td>\n",
              "      <td>...</td>\n",
              "      <td>...</td>\n",
              "      <td>...</td>\n",
              "      <td>...</td>\n",
              "      <td>...</td>\n",
              "      <td>...</td>\n",
              "      <td>...</td>\n",
              "      <td>...</td>\n",
              "    </tr>\n",
              "    <tr>\n",
              "      <th>913</th>\n",
              "      <td>45</td>\n",
              "      <td>110</td>\n",
              "      <td>264</td>\n",
              "      <td>0</td>\n",
              "      <td>132</td>\n",
              "      <td>1.2</td>\n",
              "      <td>1</td>\n",
              "      <td>0</td>\n",
              "      <td>1</td>\n",
              "      <td>0</td>\n",
              "      <td>0</td>\n",
              "      <td>0</td>\n",
              "      <td>1</td>\n",
              "      <td>0</td>\n",
              "      <td>1</td>\n",
              "      <td>0</td>\n",
              "      <td>1</td>\n",
              "      <td>0</td>\n",
              "      <td>0</td>\n",
              "      <td>1</td>\n",
              "      <td>0</td>\n",
              "    </tr>\n",
              "    <tr>\n",
              "      <th>914</th>\n",
              "      <td>68</td>\n",
              "      <td>144</td>\n",
              "      <td>193</td>\n",
              "      <td>1</td>\n",
              "      <td>141</td>\n",
              "      <td>3.4</td>\n",
              "      <td>1</td>\n",
              "      <td>0</td>\n",
              "      <td>1</td>\n",
              "      <td>1</td>\n",
              "      <td>0</td>\n",
              "      <td>0</td>\n",
              "      <td>0</td>\n",
              "      <td>0</td>\n",
              "      <td>1</td>\n",
              "      <td>0</td>\n",
              "      <td>1</td>\n",
              "      <td>0</td>\n",
              "      <td>0</td>\n",
              "      <td>1</td>\n",
              "      <td>0</td>\n",
              "    </tr>\n",
              "    <tr>\n",
              "      <th>915</th>\n",
              "      <td>57</td>\n",
              "      <td>130</td>\n",
              "      <td>131</td>\n",
              "      <td>0</td>\n",
              "      <td>115</td>\n",
              "      <td>1.2</td>\n",
              "      <td>1</td>\n",
              "      <td>0</td>\n",
              "      <td>1</td>\n",
              "      <td>1</td>\n",
              "      <td>0</td>\n",
              "      <td>0</td>\n",
              "      <td>0</td>\n",
              "      <td>0</td>\n",
              "      <td>1</td>\n",
              "      <td>0</td>\n",
              "      <td>0</td>\n",
              "      <td>1</td>\n",
              "      <td>0</td>\n",
              "      <td>1</td>\n",
              "      <td>0</td>\n",
              "    </tr>\n",
              "    <tr>\n",
              "      <th>916</th>\n",
              "      <td>57</td>\n",
              "      <td>130</td>\n",
              "      <td>236</td>\n",
              "      <td>0</td>\n",
              "      <td>174</td>\n",
              "      <td>0.0</td>\n",
              "      <td>1</td>\n",
              "      <td>1</td>\n",
              "      <td>0</td>\n",
              "      <td>0</td>\n",
              "      <td>1</td>\n",
              "      <td>0</td>\n",
              "      <td>0</td>\n",
              "      <td>1</td>\n",
              "      <td>0</td>\n",
              "      <td>0</td>\n",
              "      <td>1</td>\n",
              "      <td>0</td>\n",
              "      <td>0</td>\n",
              "      <td>1</td>\n",
              "      <td>0</td>\n",
              "    </tr>\n",
              "    <tr>\n",
              "      <th>917</th>\n",
              "      <td>38</td>\n",
              "      <td>138</td>\n",
              "      <td>175</td>\n",
              "      <td>0</td>\n",
              "      <td>173</td>\n",
              "      <td>0.0</td>\n",
              "      <td>0</td>\n",
              "      <td>0</td>\n",
              "      <td>1</td>\n",
              "      <td>0</td>\n",
              "      <td>0</td>\n",
              "      <td>1</td>\n",
              "      <td>0</td>\n",
              "      <td>0</td>\n",
              "      <td>1</td>\n",
              "      <td>0</td>\n",
              "      <td>1</td>\n",
              "      <td>0</td>\n",
              "      <td>0</td>\n",
              "      <td>0</td>\n",
              "      <td>1</td>\n",
              "    </tr>\n",
              "  </tbody>\n",
              "</table>\n",
              "<p>918 rows × 21 columns</p>\n",
              "</div>"
            ],
            "text/plain": [
              "     Age  RestingBP  Cholesterol  ...  ST_Slope_Down  ST_Slope_Flat  ST_Slope_Up\n",
              "0     40        140          289  ...              0              0            1\n",
              "1     49        160          180  ...              0              1            0\n",
              "2     37        130          283  ...              0              0            1\n",
              "3     48        138          214  ...              0              1            0\n",
              "4     54        150          195  ...              0              0            1\n",
              "..   ...        ...          ...  ...            ...            ...          ...\n",
              "913   45        110          264  ...              0              1            0\n",
              "914   68        144          193  ...              0              1            0\n",
              "915   57        130          131  ...              0              1            0\n",
              "916   57        130          236  ...              0              1            0\n",
              "917   38        138          175  ...              0              0            1\n",
              "\n",
              "[918 rows x 21 columns]"
            ]
          },
          "metadata": {},
          "execution_count": 9
        }
      ]
    },
    {
      "cell_type": "code",
      "metadata": {
        "colab": {
          "base_uri": "https://localhost:8080/",
          "height": 226
        },
        "id": "8oC_Bllpr9jG",
        "outputId": "1fb11c52-01f1-47f2-cc6d-4ef0cc3820ff"
      },
      "source": [
        "num_list= [\"Age\",\"RestingBP\",\"Cholesterol\",\"FastingBS\",\"MaxHR\",\"Oldpeak\"]\n",
        "for i in num_list:\n",
        "  mean = df[i].mean()\n",
        "  std = df[i].std()\n",
        "  df[i] = (df[i]-mean)/std\n",
        "df.head()"
      ],
      "execution_count": 10,
      "outputs": [
        {
          "output_type": "execute_result",
          "data": {
            "text/html": [
              "<div>\n",
              "<style scoped>\n",
              "    .dataframe tbody tr th:only-of-type {\n",
              "        vertical-align: middle;\n",
              "    }\n",
              "\n",
              "    .dataframe tbody tr th {\n",
              "        vertical-align: top;\n",
              "    }\n",
              "\n",
              "    .dataframe thead th {\n",
              "        text-align: right;\n",
              "    }\n",
              "</style>\n",
              "<table border=\"1\" class=\"dataframe\">\n",
              "  <thead>\n",
              "    <tr style=\"text-align: right;\">\n",
              "      <th></th>\n",
              "      <th>Age</th>\n",
              "      <th>RestingBP</th>\n",
              "      <th>Cholesterol</th>\n",
              "      <th>FastingBS</th>\n",
              "      <th>MaxHR</th>\n",
              "      <th>Oldpeak</th>\n",
              "      <th>HeartDisease</th>\n",
              "      <th>Sex_F</th>\n",
              "      <th>Sex_M</th>\n",
              "      <th>ChestPainType_ASY</th>\n",
              "      <th>ChestPainType_ATA</th>\n",
              "      <th>ChestPainType_NAP</th>\n",
              "      <th>ChestPainType_TA</th>\n",
              "      <th>RestingECG_LVH</th>\n",
              "      <th>RestingECG_Normal</th>\n",
              "      <th>RestingECG_ST</th>\n",
              "      <th>ExerciseAngina_N</th>\n",
              "      <th>ExerciseAngina_Y</th>\n",
              "      <th>ST_Slope_Down</th>\n",
              "      <th>ST_Slope_Flat</th>\n",
              "      <th>ST_Slope_Up</th>\n",
              "    </tr>\n",
              "  </thead>\n",
              "  <tbody>\n",
              "    <tr>\n",
              "      <th>0</th>\n",
              "      <td>-1.432359</td>\n",
              "      <td>0.410685</td>\n",
              "      <td>0.824621</td>\n",
              "      <td>-0.551041</td>\n",
              "      <td>1.382175</td>\n",
              "      <td>-0.831979</td>\n",
              "      <td>0</td>\n",
              "      <td>0</td>\n",
              "      <td>1</td>\n",
              "      <td>0</td>\n",
              "      <td>1</td>\n",
              "      <td>0</td>\n",
              "      <td>0</td>\n",
              "      <td>0</td>\n",
              "      <td>1</td>\n",
              "      <td>0</td>\n",
              "      <td>1</td>\n",
              "      <td>0</td>\n",
              "      <td>0</td>\n",
              "      <td>0</td>\n",
              "      <td>1</td>\n",
              "    </tr>\n",
              "    <tr>\n",
              "      <th>1</th>\n",
              "      <td>-0.478223</td>\n",
              "      <td>1.490940</td>\n",
              "      <td>-0.171867</td>\n",
              "      <td>-0.551041</td>\n",
              "      <td>0.753746</td>\n",
              "      <td>0.105606</td>\n",
              "      <td>1</td>\n",
              "      <td>1</td>\n",
              "      <td>0</td>\n",
              "      <td>0</td>\n",
              "      <td>0</td>\n",
              "      <td>1</td>\n",
              "      <td>0</td>\n",
              "      <td>0</td>\n",
              "      <td>1</td>\n",
              "      <td>0</td>\n",
              "      <td>1</td>\n",
              "      <td>0</td>\n",
              "      <td>0</td>\n",
              "      <td>1</td>\n",
              "      <td>0</td>\n",
              "    </tr>\n",
              "    <tr>\n",
              "      <th>2</th>\n",
              "      <td>-1.750404</td>\n",
              "      <td>-0.129442</td>\n",
              "      <td>0.769768</td>\n",
              "      <td>-0.551041</td>\n",
              "      <td>-1.524307</td>\n",
              "      <td>-0.831979</td>\n",
              "      <td>0</td>\n",
              "      <td>0</td>\n",
              "      <td>1</td>\n",
              "      <td>0</td>\n",
              "      <td>1</td>\n",
              "      <td>0</td>\n",
              "      <td>0</td>\n",
              "      <td>0</td>\n",
              "      <td>0</td>\n",
              "      <td>1</td>\n",
              "      <td>1</td>\n",
              "      <td>0</td>\n",
              "      <td>0</td>\n",
              "      <td>0</td>\n",
              "      <td>1</td>\n",
              "    </tr>\n",
              "    <tr>\n",
              "      <th>3</th>\n",
              "      <td>-0.584238</td>\n",
              "      <td>0.302660</td>\n",
              "      <td>0.138964</td>\n",
              "      <td>-0.551041</td>\n",
              "      <td>-1.131539</td>\n",
              "      <td>0.574398</td>\n",
              "      <td>1</td>\n",
              "      <td>1</td>\n",
              "      <td>0</td>\n",
              "      <td>1</td>\n",
              "      <td>0</td>\n",
              "      <td>0</td>\n",
              "      <td>0</td>\n",
              "      <td>0</td>\n",
              "      <td>1</td>\n",
              "      <td>0</td>\n",
              "      <td>0</td>\n",
              "      <td>1</td>\n",
              "      <td>0</td>\n",
              "      <td>1</td>\n",
              "      <td>0</td>\n",
              "    </tr>\n",
              "    <tr>\n",
              "      <th>4</th>\n",
              "      <td>0.051853</td>\n",
              "      <td>0.950812</td>\n",
              "      <td>-0.034736</td>\n",
              "      <td>-0.551041</td>\n",
              "      <td>-0.581664</td>\n",
              "      <td>-0.831979</td>\n",
              "      <td>0</td>\n",
              "      <td>0</td>\n",
              "      <td>1</td>\n",
              "      <td>0</td>\n",
              "      <td>0</td>\n",
              "      <td>1</td>\n",
              "      <td>0</td>\n",
              "      <td>0</td>\n",
              "      <td>1</td>\n",
              "      <td>0</td>\n",
              "      <td>1</td>\n",
              "      <td>0</td>\n",
              "      <td>0</td>\n",
              "      <td>0</td>\n",
              "      <td>1</td>\n",
              "    </tr>\n",
              "  </tbody>\n",
              "</table>\n",
              "</div>"
            ],
            "text/plain": [
              "        Age  RestingBP  Cholesterol  ...  ST_Slope_Down  ST_Slope_Flat  ST_Slope_Up\n",
              "0 -1.432359   0.410685     0.824621  ...              0              0            1\n",
              "1 -0.478223   1.490940    -0.171867  ...              0              1            0\n",
              "2 -1.750404  -0.129442     0.769768  ...              0              0            1\n",
              "3 -0.584238   0.302660     0.138964  ...              0              1            0\n",
              "4  0.051853   0.950812    -0.034736  ...              0              0            1\n",
              "\n",
              "[5 rows x 21 columns]"
            ]
          },
          "metadata": {},
          "execution_count": 10
        }
      ]
    },
    {
      "cell_type": "code",
      "metadata": {
        "id": "Rs1SKWvpxGyt"
      },
      "source": [
        "Y = df['HeartDisease']\n",
        "X = df.drop(columns=[\"HeartDisease\"])"
      ],
      "execution_count": 11,
      "outputs": []
    },
    {
      "cell_type": "code",
      "metadata": {
        "id": "tR5uZhR91Hc1"
      },
      "source": [
        "X_train,X_test,y_train,y_test = train_test_split(X,Y,test_size=0.2,stratify=Y,random_state=123)\n",
        "y_train = np.expand_dims(y_train,axis=1)\n",
        "y_test = np.expand_dims(y_test,axis=1)\n",
        "X_train, X_test, y_train, y_test = X_train.T, X_test.T, y_train.T, y_test.T"
      ],
      "execution_count": 12,
      "outputs": []
    },
    {
      "cell_type": "code",
      "metadata": {
        "colab": {
          "base_uri": "https://localhost:8080/"
        },
        "id": "u0ooJ8881U0j",
        "outputId": "62ddbe72-ff7b-49b4-8f9b-8408b08176bc"
      },
      "source": [
        "print(\"Training X: \",X_train.shape)\n",
        "print(\"Training Y: \",y_train.shape)\n",
        "print(\"Testing X: \",X_test.shape)\n",
        "print(\"Testing Y: \",y_test.shape)"
      ],
      "execution_count": 13,
      "outputs": [
        {
          "output_type": "stream",
          "name": "stdout",
          "text": [
            "Training X:  (20, 734)\n",
            "Training Y:  (1, 734)\n",
            "Testing X:  (20, 184)\n",
            "Testing Y:  (1, 184)\n"
          ]
        }
      ]
    },
    {
      "cell_type": "code",
      "metadata": {
        "colab": {
          "base_uri": "https://localhost:8080/"
        },
        "id": "BL8xE26u2X2r",
        "outputId": "1d7ef332-abdc-4bfc-d817-50dee905b3d6"
      },
      "source": [
        "print(y_test)"
      ],
      "execution_count": 14,
      "outputs": [
        {
          "output_type": "stream",
          "name": "stdout",
          "text": [
            "[[0 1 1 0 1 0 1 0 0 1 1 1 1 0 1 0 0 0 0 1 1 1 0 1 1 0 0 1 0 1 0 1 0 0 0 0\n",
            "  1 1 0 0 1 1 0 1 0 1 1 0 1 1 1 0 1 1 1 1 1 1 1 1 1 0 1 1 0 0 1 0 0 1 0 1\n",
            "  1 1 0 1 0 1 0 0 0 0 0 1 0 1 1 0 1 1 0 0 0 1 1 1 0 0 1 0 1 1 0 0 0 0 1 0\n",
            "  0 0 1 1 1 1 0 1 1 0 0 0 1 1 1 1 1 0 0 0 0 1 1 1 1 1 1 0 1 0 0 1 1 0 1 1\n",
            "  0 1 0 1 1 0 0 0 0 1 1 0 1 1 0 1 1 0 1 0 1 1 0 1 0 1 0 0 1 1 1 1 1 1 0 1\n",
            "  0 0 1 1]]\n"
          ]
        }
      ]
    },
    {
      "cell_type": "markdown",
      "metadata": {
        "id": "v3DCI5U03Vxs"
      },
      "source": [
        "# 3. Build model"
      ]
    },
    {
      "cell_type": "code",
      "metadata": {
        "id": "cNXuc_9b2skS"
      },
      "source": [
        "# Initilize parameters\n",
        "def init_parameters(layers_dims):\n",
        "  np.random.seed(3)\n",
        "  L = len(layers_dims)\n",
        "  parameters = {}\n",
        "  for l in range(1,L):\n",
        "    parameters[\"W\" + str(l)] = np.random.randn(layers_dims[l],layers_dims[l-1])*np.sqrt(2/layers_dims[l-1])\n",
        "    parameters[\"b\" + str(l)] = np.zeros((layers_dims[l],1))\n",
        "  return parameters"
      ],
      "execution_count": 15,
      "outputs": []
    },
    {
      "cell_type": "code",
      "metadata": {
        "id": "gbri0Tzu3kwp"
      },
      "source": [
        "def sigmoid(Z):\n",
        "  A = 1/(1+np.exp(-Z))\n",
        "  return A,Z\n",
        "def relu(Z):\n",
        "  A = np.maximum(0,Z)\n",
        "  return A,Z"
      ],
      "execution_count": 16,
      "outputs": []
    },
    {
      "cell_type": "code",
      "metadata": {
        "id": "FnRyTLqk3oZu"
      },
      "source": [
        "def calc_ffw(W,A_prev,b,activation):\n",
        "  if activation == \"sigmoid\":\n",
        "    Z = np.dot(W,A_prev) + b\n",
        "    A,Z = sigmoid(Z)\n",
        "  else:\n",
        "    Z = np.dot(W,A_prev) + b\n",
        "    A,Z = relu(Z)\n",
        "  linear_cache = (A_prev,W,b)\n",
        "  activation_cache = Z\n",
        "  cache = (linear_cache, activation_cache)\n",
        "  return A,cache"
      ],
      "execution_count": 17,
      "outputs": []
    },
    {
      "cell_type": "code",
      "metadata": {
        "id": "uLSaNQyb3ynG"
      },
      "source": [
        "def L_model_forward(X,parameters):\n",
        "  L = len(parameters)//2\n",
        "  caches = []\n",
        "  A = X\n",
        "  for l in range(1,L):\n",
        "    A_prev = A\n",
        "    A,cache = calc_ffw(parameters[\"W\"+str(l)],A_prev,parameters[\"b\"+str(l)],\"relu\")\n",
        "    caches.append(cache)\n",
        "  AL,cache = calc_ffw(parameters[\"W\"+str(L)],A,parameters[\"b\"+str(L)],\"sigmoid\")\n",
        "  caches.append(cache)\n",
        "  return AL, caches"
      ],
      "execution_count": 18,
      "outputs": []
    },
    {
      "cell_type": "code",
      "metadata": {
        "id": "sICFEUxF31jq"
      },
      "source": [
        "def compute_cost(AL,Y,parameters, lamb):\n",
        "  m = AL.shape[1]\n",
        "  cross_entropy_cost = -1./m*(np.dot(Y,np.log(AL).T) + np.dot((1-Y),np.log(1-AL).T))\n",
        "  sum_W = 0\n",
        "  for l in range(1,len(parameters)//2+1):\n",
        "    sum_W += np.sum(np.square(parameters[\"W\"+str(l)]))\n",
        "  # L1_regularization_cost =  sum_W*lamb*1./(2*m)\n",
        "  L2_regularization_cost =  sum_W*lamb*1./(2*m)\n",
        "  # cost = np.squeeze(cross_entropy_cost + L1_regularization_cost) \n",
        "  cost = np.squeeze(cross_entropy_cost + L2_regularization_cost)   \n",
        "  return cost"
      ],
      "execution_count": 60,
      "outputs": []
    },
    {
      "cell_type": "code",
      "metadata": {
        "id": "E5bu7j6I36qo"
      },
      "source": [
        "def sigmoid_grad(dA,Z):\n",
        "  A,Z = sigmoid(Z)\n",
        "  dZ = dA*A*(1-A)\n",
        "  return dZ\n",
        "def relu_grad(dA,Z):\n",
        "  A,Z = relu(Z)\n",
        "  dZ = np.multiply(dA, np.int64(A > 0))\n",
        "  return dZ"
      ],
      "execution_count": 61,
      "outputs": []
    },
    {
      "cell_type": "code",
      "metadata": {
        "id": "b4P_wTMF3_Ef"
      },
      "source": [
        "def linear_backward(dZ,cache, lamb):\n",
        "  A_prev, W, b = cache\n",
        "  m = A_prev.shape[1] \n",
        "  dW = 1./m*(np.dot(dZ,A_prev.T) + lamb*W/np.absolute(W))\n",
        "  #dW = 1./m*np.dot(dZ,A_prev.T) + lamb*W/m\n",
        "  db = 1./m*np.sum(dZ,axis=1,keepdims=True)\n",
        "  dA_prev = np.dot(W.T,dZ)\n",
        "  return dA_prev,dW,db"
      ],
      "execution_count": 62,
      "outputs": []
    },
    {
      "cell_type": "code",
      "metadata": {
        "id": "smthEIAc4CDI"
      },
      "source": [
        "# compute backward with activation\n",
        "def linear_activation_backward(dA,cache,activation,lamb):\n",
        "  linear_cache, activation_cache = cache\n",
        "  if activation == \"relu\":\n",
        "    dZ = relu_grad(dA,activation_cache)\n",
        "    dA_prev,dW,db = linear_backward(dZ,linear_cache,lamb)\n",
        "  elif activation == \"sigmoid\":\n",
        "    dZ = sigmoid_grad(dA,activation_cache)\n",
        "    dA_prev,dW,db = linear_backward(dZ,linear_cache,lamb)\n",
        "  return dA_prev,dW,db"
      ],
      "execution_count": 63,
      "outputs": []
    },
    {
      "cell_type": "code",
      "metadata": {
        "id": "fETZ-FEJ4IDX"
      },
      "source": [
        "# computer L_backward for NN\n",
        "def L_model_backward(AL, Y, caches,lamb):\n",
        "  grads = {}\n",
        "  L = len(caches)\n",
        "  Y = Y.reshape(AL.shape)\n",
        "  dAL = np.divide(AL - Y, np.multiply(AL, 1 - AL))\n",
        "  \n",
        "  current_cache = caches[-1]\n",
        "  grads[\"dA\" + str(L-1)], grads[\"dW\" + str(L)], grads[\"db\" + str(L)] = linear_activation_backward(dAL,current_cache, activation = \"sigmoid\",lamb=lamb)\n",
        "\n",
        "  for l in reversed(range(L-1)):\n",
        "    current_cache = caches[l]\n",
        "    dA_prev_temp, dW_temp, db_temp = linear_activation_backward(grads[\"dA\" + str(l + 1)],  current_cache, activation = \"relu\", lamb=lamb)\n",
        "    grads[\"dA\" + str(l)] = dA_prev_temp\n",
        "    grads[\"dW\" + str(l + 1)] = dW_temp\n",
        "    grads[\"db\" + str(l + 1)] = db_temp\n",
        "  return grads"
      ],
      "execution_count": 64,
      "outputs": []
    },
    {
      "cell_type": "code",
      "metadata": {
        "id": "pGigjcwa4LxU"
      },
      "source": [
        "def update_parameters(parameters, grads, lr):\n",
        "  L = len(parameters)//2\n",
        "  for l in range(L):\n",
        "    parameters[\"W\" + str(l+1)] = parameters[\"W\" + str(l+1)]-lr*grads[\"dW\" + str(l+1)]\n",
        "    parameters[\"b\" + str(l+1)] = parameters[\"b\" + str(l+1)]-lr*grads[\"db\" + str(l+1)]\n",
        "  return parameters"
      ],
      "execution_count": 65,
      "outputs": []
    },
    {
      "cell_type": "code",
      "metadata": {
        "id": "jg4bsBSY4OlY"
      },
      "source": [
        "def predict(X,Y,parameters):\n",
        "  AL,cache =  L_model_forward(X,parameters)\n",
        "  return np.round(AL)"
      ],
      "execution_count": 66,
      "outputs": []
    },
    {
      "cell_type": "code",
      "metadata": {
        "id": "b_AVTVxD4RZP"
      },
      "source": [
        "def model(X,Y,X_test,y_test,num_iterations, learning_rate, lamb,print_cost=False):\n",
        "  history = {}\n",
        "  np.random.seed(3)\n",
        "  input_size = X.shape[0]\n",
        "  layer_dims = []\n",
        "  layer_dims.append(input_size)\n",
        "  layer_dims.append(7)\n",
        "  layer_dims.append(5)\n",
        "  layer_dims.append(1)\n",
        "  parameters = init_parameters(layer_dims)\n",
        "  costs = []\n",
        "  test_costs = []\n",
        "  acc_list = []\n",
        "  test_acc_list = []\n",
        "  for i in range(num_iterations):\n",
        "    \n",
        "    AL, caches = L_model_forward(X,parameters)\n",
        "    cost = compute_cost(AL, Y,parameters,lamb=lamb)\n",
        "    costs.append(cost)\n",
        "    grads = L_model_backward(AL,Y,caches,lamb=lamb)\n",
        "    parameters = update_parameters(parameters,grads,learning_rate)\n",
        "\n",
        "    # training\n",
        "    y_pred = predict(X,Y,parameters)\n",
        "    acc = 1 - np.mean(np.abs(y_pred - Y))\n",
        "    acc_list.append(acc)\n",
        "\n",
        "    # test\n",
        "    AL_test, caches_test = L_model_forward(X_test,parameters)\n",
        "    test_cost = compute_cost(AL_test, y_test,parameters,lamb=lamb)\n",
        "    test_costs.append(test_cost)\n",
        "    y_test_pred = predict(X_test,y_test,parameters)\n",
        "    test_acc = 1 - np.mean(np.abs(y_test_pred - y_test))\n",
        "    test_acc_list.append(test_acc)\n",
        "  history = {'loss':costs,\n",
        "             'accuracy':acc_list,\n",
        "             'test_loss':test_costs,\n",
        "             'test_accuracy':test_acc_list}\n",
        "  #   if print_cost and i % 1000 == 0:\n",
        "  #     print (\"Cost after iteration %i: %f\" %(i, cost))\n",
        "  # Y_train_pred = predict(X,Y,parameters)\n",
        "  # Y_test_pred = predict(X_test,y_test,parameters)\n",
        "  # print(\"train accuracy: {} %\".format(100 - np.mean(np.abs(Y_train_pred - Y)) * 100))\n",
        "  # print(\"test accuracy: {} %\".format(100 - np.mean(np.abs(Y_test_pred - y_test)) * 100))\n",
        "  return history"
      ],
      "execution_count": 67,
      "outputs": []
    },
    {
      "cell_type": "code",
      "metadata": {
        "id": "e-UO1kn34Ur4"
      },
      "source": [
        "history = model(X_train,y_train,X_test,y_test,15000,0.01,0.9,True)"
      ],
      "execution_count": 76,
      "outputs": []
    },
    {
      "cell_type": "code",
      "metadata": {
        "id": "EzCuLqHNutws"
      },
      "source": [
        ""
      ],
      "execution_count": null,
      "outputs": []
    },
    {
      "cell_type": "code",
      "metadata": {
        "colab": {
          "base_uri": "https://localhost:8080/"
        },
        "id": "38j9gZNTels0",
        "outputId": "6bc3b610-c9d0-4153-c13c-b0ce39661bcb"
      },
      "source": [
        "history['test_accuracy'][-1]"
      ],
      "execution_count": 77,
      "outputs": [
        {
          "output_type": "execute_result",
          "data": {
            "text/plain": [
              "0.9021739130434783"
            ]
          },
          "metadata": {},
          "execution_count": 77
        }
      ]
    },
    {
      "cell_type": "code",
      "metadata": {
        "colab": {
          "base_uri": "https://localhost:8080/",
          "height": 295
        },
        "id": "J6nbs14AdPSb",
        "outputId": "25015c5a-11c5-4dc9-ca3e-0f23f776dff3"
      },
      "source": [
        "plt.plot(history['loss'])\n",
        "plt.plot(history['test_loss'])\n",
        "plt.title('model loss')\n",
        "plt.ylabel('loss')\n",
        "plt.xlabel('epoch')\n",
        "plt.legend(['train', 'test'], loc='lower right')\n",
        "plt.show()"
      ],
      "execution_count": 78,
      "outputs": [
        {
          "output_type": "display_data",
          "data": {
            "image/png": "[encoded data removed]",
            "text/plain": [
              "<Figure size 432x288 with 1 Axes>"
            ]
          },
          "metadata": {
            "needs_background": "light"
          }
        }
      ]
    },
    {
      "cell_type": "code",
      "metadata": {
        "colab": {
          "base_uri": "https://localhost:8080/"
        },
        "id": "kJ5G0HCEb9Yh",
        "outputId": "9bdae743-6e18-4fd2-a8c4-ebe39298f78a"
      },
      "source": [
        "print(history['accuracy'][-1])"
      ],
      "execution_count": 79,
      "outputs": [
        {
          "output_type": "stream",
          "name": "stdout",
          "text": [
            "0.888283378746594\n"
          ]
        }
      ]
    },
    {
      "cell_type": "code",
      "metadata": {
        "id": "wJCiRaPKc6xo"
      },
      "source": [
        "history['test_accuracy']"
      ],
      "execution_count": null,
      "outputs": []
    },
    {
      "cell_type": "code",
      "metadata": {
        "colab": {
          "base_uri": "https://localhost:8080/"
        },
        "id": "3AlbgLGI4iUD",
        "outputId": "d8d9a3ac-3315-4409-f332-89d05ea19952"
      },
      "source": [
        "15000,0.01,0.9\n",
        "15000,0.01,0.8"
      ],
      "execution_count": 30,
      "outputs": [
        {
          "output_type": "execute_result",
          "data": {
            "text/plain": [
              "(15000, 0.01, 0.8)"
            ]
          },
          "metadata": {},
          "execution_count": 30
        }
      ]
    },
    {
      "cell_type": "code",
      "metadata": {
        "id": "hCuzrP63Xtpv"
      },
      "source": [
        ""
      ],
      "execution_count": 30,
      "outputs": []
    }
  ]
}