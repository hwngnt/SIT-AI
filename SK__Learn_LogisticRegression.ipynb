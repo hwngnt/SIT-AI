{
  "nbformat": 4,
  "nbformat_minor": 0,
  "metadata": {
    "colab": {
      "name": "SK__Learn_LogisticRegression.ipynb",
      "provenance": [],
      "authorship_tag": "ABX9TyO896kTiKN66Psb5QNVelju",
      "include_colab_link": true
    },
    "kernelspec": {
      "name": "python3",
      "display_name": "Python 3"
    },
    "language_info": {
      "name": "python"
    }
  },
  "cells": [
    {
      "cell_type": "markdown",
      "metadata": {
        "id": "view-in-github",
        "colab_type": "text"
      },
      "source": [
        "<a href=\"https://colab.research.google.com/github/hnhoangdz/SIT_AI/blob/main/SK__Learn_LogisticRegression.ipynb\" target=\"_parent\"><img src=\"https://colab.research.google.com/assets/colab-badge.svg\" alt=\"Open In Colab\"/></a>"
      ]
    },
    {
      "cell_type": "code",
      "metadata": {
        "id": "eDi56MZPfbvP"
      },
      "source": [
        "from sklearn.linear_model import LogisticRegression\n",
        "# all parameters not specified are set to their defaults\n",
        "logisticRegr = LogisticRegression()"
      ],
      "execution_count": 12,
      "outputs": []
    },
    {
      "cell_type": "code",
      "metadata": {
        "colab": {
          "base_uri": "https://localhost:8080/"
        },
        "id": "xlSuLjGBk9I0",
        "outputId": "5e049eb5-06ba-4803-b1fe-ace0b2d08ac8"
      },
      "source": [
        "from google.colab import drive\n",
        "drive.mount('/content/drive')\n",
        "import pandas as pd\n",
        "import numpy as np\n",
        "from sklearn.model_selection import train_test_split\n",
        "df = pd.read_csv(\"/content/drive/MyDrive/Colab Notebooks/Project/SIT_Project/heart.csv\")\n",
        "df = pd.get_dummies(df, columns=['Sex', 'ChestPainType','RestingECG','ExerciseAngina','ST_Slope'])\n",
        "num_list= [\"Age\",\"RestingBP\",\"Cholesterol\",\"FastingBS\",\"MaxHR\",\"Oldpeak\"]\n",
        "for i in num_list:\n",
        "  mean = df[i].mean()\n",
        "  std = df[i].std()\n",
        "  df[i] = (df[i]-mean)/std\n",
        "Y = df['HeartDisease']\n",
        "X = df.drop(columns=[\"HeartDisease\"])\n",
        "X_train,X_test,Y_train,Y_test = train_test_split(X,Y,test_size=0.2,stratify=Y,random_state=123)"
      ],
      "execution_count": 13,
      "outputs": [
        {
          "output_type": "stream",
          "name": "stdout",
          "text": [
            "Drive already mounted at /content/drive; to attempt to forcibly remount, call drive.mount(\"/content/drive\", force_remount=True).\n"
          ]
        }
      ]
    },
    {
      "cell_type": "code",
      "metadata": {
        "id": "Xhi_E2CPlUqc"
      },
      "source": [
        "Y_train = np.expand_dims(Y_train,axis=1)\n",
        "Y_test = np.expand_dims(Y_test,axis=1)"
      ],
      "execution_count": 14,
      "outputs": []
    },
    {
      "cell_type": "code",
      "metadata": {
        "colab": {
          "base_uri": "https://localhost:8080/"
        },
        "id": "Q1pCxQjVfir4",
        "outputId": "aafc87f6-e26b-4990-eb11-c6e28725fe80"
      },
      "source": [
        "Y_train = Y_train.reshape(734,)\n",
        "print(Y_train.shape)\n",
        "Y_test = Y_test.reshape(184,)\n",
        "print(Y_test.shape)"
      ],
      "execution_count": 15,
      "outputs": [
        {
          "output_type": "stream",
          "name": "stdout",
          "text": [
            "(734,)\n",
            "(184,)\n"
          ]
        }
      ]
    },
    {
      "cell_type": "code",
      "metadata": {
        "id": "OS7W2P4af2Jf",
        "colab": {
          "base_uri": "https://localhost:8080/"
        },
        "outputId": "4592574c-a086-4474-fd09-b7bcb22b09a6"
      },
      "source": [
        "logisticRegr.fit(X_train, Y_train)"
      ],
      "execution_count": 16,
      "outputs": [
        {
          "output_type": "execute_result",
          "data": {
            "text/plain": [
              "LogisticRegression()"
            ]
          },
          "metadata": {},
          "execution_count": 16
        }
      ]
    },
    {
      "cell_type": "code",
      "metadata": {
        "id": "ijmYVc8Zmm7M"
      },
      "source": [
        "predictions = logisticRegr.predict(X_test)"
      ],
      "execution_count": 17,
      "outputs": []
    },
    {
      "cell_type": "code",
      "metadata": {
        "colab": {
          "base_uri": "https://localhost:8080/"
        },
        "id": "84LnEFo3mpJD",
        "outputId": "8f1e9b58-b121-468b-c27f-7842336a237d"
      },
      "source": [
        "# Use score method to get accuracy of model\n",
        "score = logisticRegr.score(X_test, Y_test)\n",
        "print(score)"
      ],
      "execution_count": 18,
      "outputs": [
        {
          "output_type": "stream",
          "name": "stdout",
          "text": [
            "0.8641304347826086\n"
          ]
        }
      ]
    },
    {
      "cell_type": "code",
      "metadata": {
        "id": "fSQESljFmr_y"
      },
      "source": [
        "from sklearn.metrics import log_loss\n",
        "loss =  log_loss(Y_test, predictions, eps=1e-15)"
      ],
      "execution_count": 19,
      "outputs": []
    },
    {
      "cell_type": "code",
      "metadata": {
        "colab": {
          "base_uri": "https://localhost:8080/"
        },
        "id": "hLhClEyFmuuK",
        "outputId": "8791a689-273c-4a7a-ad91-a0fcc2fe05bd"
      },
      "source": [
        "print(loss)"
      ],
      "execution_count": 20,
      "outputs": [
        {
          "output_type": "stream",
          "name": "stdout",
          "text": [
            "4.6928119882992885\n"
          ]
        }
      ]
    }
  ]
}